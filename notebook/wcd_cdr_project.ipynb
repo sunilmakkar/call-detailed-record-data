{
 "cells": [
  {
   "cell_type": "markdown",
   "metadata": {
    "application/vnd.databricks.v1+cell": {
     "cellMetadata": {},
     "inputWidgets": {},
     "nuid": "c85f8a75-88ea-4636-a67e-75df372f596b",
     "showTitle": false,
     "title": ""
    }
   },
   "source": [
    "# Import libraries and set environment variables\n",
    "\n",
    "\n",
    "\n",
    "In the first cell, we will set up the imports required to get AWS keys using the requests library and mount the S3 data into Databricks. Make sure that the environment supports the correct libraries for AWS interaction.\n"
   ]
  },
  {
   "cell_type": "code",
   "execution_count": 0,
   "metadata": {
    "application/vnd.databricks.v1+cell": {
     "cellMetadata": {
      "byteLimit": 2048000,
      "rowLimit": 10000
     },
     "inputWidgets": {},
     "nuid": "b5c623d7-b6cb-45fd-9f53-c4e4f47e9b0e",
     "showTitle": false,
     "title": ""
    }
   },
   "outputs": [
    {
     "output_type": "stream",
     "name": "stdout",
     "output_type": "stream",
     "text": [
      "AWS keys have been set.\n"
     ]
    }
   ],
   "source": [
    "import requests\n",
    "\n",
    "# URL to get the AWS keys\n",
    "aws_key_url = 'https://wcd-de-labs-files.s3.amazonaws.com/key.json'\n",
    "\n",
    "# Fetch the AWS keys\n",
    "response = requests.get(aws_key_url)\n",
    "aws_keys = response.json()\n",
    "\n",
    "# Extract the access key and secret access key from the JSON structure\n",
    "ACCESS_KEY = aws_keys['key'][0]['access_key']\n",
    "SECRET_KEY = aws_keys['key'][0]['secret_access_key']\n",
    "\n",
    "# Set the AWS credentials in Databricks environment\n",
    "spark.conf.set(\"fs.s3a.access.key\", ACCESS_KEY)\n",
    "spark.conf.set(\"fs.s3a.secret.key\", SECRET_KEY)\n",
    "\n",
    "# Output the keys to verify (make sure not to share these keys)\n",
    "print(\"AWS keys have been set.\")\n"
   ]
  },
  {
   "cell_type": "markdown",
   "metadata": {
    "application/vnd.databricks.v1+cell": {
     "cellMetadata": {},
     "inputWidgets": {},
     "nuid": "1fbc9cd3-6cfc-435e-8e12-24679a4c1394",
     "showTitle": false,
     "title": ""
    }
   },
   "source": [
    "# Mount the S3 folder to Databricks\n",
    "\n",
    "\n",
    "Next, we will mount the S3 bucket, specifically the folder cdr_by_grid_december, onto the Databricks /mnt/cdr folder."
   ]
  },
  {
   "cell_type": "code",
   "execution_count": 0,
   "metadata": {
    "application/vnd.databricks.v1+cell": {
     "cellMetadata": {
      "byteLimit": 2048000,
      "rowLimit": 10000
     },
     "inputWidgets": {},
     "nuid": "abfd84b6-4cb5-4a0d-881f-ecd6fec7b6c4",
     "showTitle": false,
     "title": ""
    }
   },
   "outputs": [
    {
     "output_type": "stream",
     "name": "stdout",
     "output_type": "stream",
     "text": [
      "/mnt/cdr_ds has been unmounted.\n"
     ]
    },
    {
     "output_type": "display_data",
     "data": {
      "text/html": [
       "<style scoped>\n",
       "  .table-result-container {\n",
       "    max-height: 300px;\n",
       "    overflow: auto;\n",
       "  }\n",
       "  table, th, td {\n",
       "    border: 1px solid black;\n",
       "    border-collapse: collapse;\n",
       "  }\n",
       "  th, td {\n",
       "    padding: 5px;\n",
       "  }\n",
       "  th {\n",
       "    text-align: left;\n",
       "  }\n",
       "</style><div class='table-result-container'><table class='table-result'><thead style='background-color: white'><tr><th>path</th><th>name</th><th>size</th><th>modificationTime</th></tr></thead><tbody><tr><td>dbfs:/mnt/cdr_ds/sms-call-internet-mi-2013-12-01.txt</td><td>sms-call-internet-mi-2013-12-01.txt</td><td>298715145</td><td>1534382855000</td></tr><tr><td>dbfs:/mnt/cdr_ds/sms-call-internet-mi-2013-12-02.txt</td><td>sms-call-internet-mi-2013-12-02.txt</td><td>341919663</td><td>1534382855000</td></tr><tr><td>dbfs:/mnt/cdr_ds/sms-call-internet-mi-2013-12-03.txt</td><td>sms-call-internet-mi-2013-12-03.txt</td><td>353947238</td><td>1534382855000</td></tr><tr><td>dbfs:/mnt/cdr_ds/sms-call-internet-mi-2013-12-04.txt</td><td>sms-call-internet-mi-2013-12-04.txt</td><td>352032545</td><td>1534382855000</td></tr><tr><td>dbfs:/mnt/cdr_ds/sms-call-internet-mi-2013-12-05.txt</td><td>sms-call-internet-mi-2013-12-05.txt</td><td>353519447</td><td>1534382855000</td></tr><tr><td>dbfs:/mnt/cdr_ds/sms-call-internet-mi-2013-12-06.txt</td><td>sms-call-internet-mi-2013-12-06.txt</td><td>354028475</td><td>1534383133000</td></tr><tr><td>dbfs:/mnt/cdr_ds/sms-call-internet-mi-2013-12-07.txt</td><td>sms-call-internet-mi-2013-12-07.txt</td><td>307172220</td><td>1534383160000</td></tr><tr><td>dbfs:/mnt/cdr_ds/sms-call-internet-mi-2013-12-08.txt</td><td>sms-call-internet-mi-2013-12-08.txt</td><td>293663723</td><td>1534383165000</td></tr><tr><td>dbfs:/mnt/cdr_ds/sms-call-internet-mi-2013-12-09.txt</td><td>sms-call-internet-mi-2013-12-09.txt</td><td>338963272</td><td>1534383165000</td></tr><tr><td>dbfs:/mnt/cdr_ds/sms-call-internet-mi-2013-12-10.txt</td><td>sms-call-internet-mi-2013-12-10.txt</td><td>349269739</td><td>1534383165000</td></tr><tr><td>dbfs:/mnt/cdr_ds/sms-call-internet-mi-2013-12-11.txt</td><td>sms-call-internet-mi-2013-12-11.txt</td><td>351378560</td><td>1534383447000</td></tr><tr><td>dbfs:/mnt/cdr_ds/sms-call-internet-mi-2013-12-12.txt</td><td>sms-call-internet-mi-2013-12-12.txt</td><td>353930588</td><td>1534383448000</td></tr><tr><td>dbfs:/mnt/cdr_ds/sms-call-internet-mi-2013-12-13.txt</td><td>sms-call-internet-mi-2013-12-13.txt</td><td>351454734</td><td>1534383451000</td></tr><tr><td>dbfs:/mnt/cdr_ds/sms-call-internet-mi-2013-12-14.txt</td><td>sms-call-internet-mi-2013-12-14.txt</td><td>310080286</td><td>1534383489000</td></tr><tr><td>dbfs:/mnt/cdr_ds/sms-call-internet-mi-2013-12-15.txt</td><td>sms-call-internet-mi-2013-12-15.txt</td><td>296653479</td><td>1534383492000</td></tr><tr><td>dbfs:/mnt/cdr_ds/sms-call-internet-mi-2013-12-16.txt</td><td>sms-call-internet-mi-2013-12-16.txt</td><td>342672644</td><td>1534383765000</td></tr><tr><td>dbfs:/mnt/cdr_ds/sms-call-internet-mi-2013-12-17.txt</td><td>sms-call-internet-mi-2013-12-17.txt</td><td>351108029</td><td>1534383768000</td></tr><tr><td>dbfs:/mnt/cdr_ds/sms-call-internet-mi-2013-12-18.txt</td><td>sms-call-internet-mi-2013-12-18.txt</td><td>350956602</td><td>1534383768000</td></tr><tr><td>dbfs:/mnt/cdr_ds/sms-call-internet-mi-2013-12-19.txt</td><td>sms-call-internet-mi-2013-12-19.txt</td><td>356429243</td><td>1534383768000</td></tr><tr><td>dbfs:/mnt/cdr_ds/sms-call-internet-mi-2013-12-20.txt</td><td>sms-call-internet-mi-2013-12-20.txt</td><td>349357045</td><td>1534383769000</td></tr><tr><td>dbfs:/mnt/cdr_ds/sms-call-internet-mi-2013-12-21.txt</td><td>sms-call-internet-mi-2013-12-21.txt</td><td>313594501</td><td>1534384058000</td></tr><tr><td>dbfs:/mnt/cdr_ds/sms-call-internet-mi-2013-12-22.txt</td><td>sms-call-internet-mi-2013-12-22.txt</td><td>301004169</td><td>1534384060000</td></tr><tr><td>dbfs:/mnt/cdr_ds/sms-call-internet-mi-2013-12-23.txt</td><td>sms-call-internet-mi-2013-12-23.txt</td><td>326617616</td><td>1534384066000</td></tr><tr><td>dbfs:/mnt/cdr_ds/sms-call-internet-mi-2013-12-24.txt</td><td>sms-call-internet-mi-2013-12-24.txt</td><td>328653739</td><td>1534384071000</td></tr><tr><td>dbfs:/mnt/cdr_ds/sms-call-internet-mi-2013-12-25.txt</td><td>sms-call-internet-mi-2013-12-25.txt</td><td>324587326</td><td>1534384078000</td></tr><tr><td>dbfs:/mnt/cdr_ds/sms-call-internet-mi-2013-12-26.txt</td><td>sms-call-internet-mi-2013-12-26.txt</td><td>281115796</td><td>1534384319000</td></tr><tr><td>dbfs:/mnt/cdr_ds/sms-call-internet-mi-2013-12-27.txt</td><td>sms-call-internet-mi-2013-12-27.txt</td><td>303320719</td><td>1534384323000</td></tr><tr><td>dbfs:/mnt/cdr_ds/sms-call-internet-mi-2013-12-28.txt</td><td>sms-call-internet-mi-2013-12-28.txt</td><td>285311365</td><td>1534384358000</td></tr><tr><td>dbfs:/mnt/cdr_ds/sms-call-internet-mi-2013-12-29.txt</td><td>sms-call-internet-mi-2013-12-29.txt</td><td>277460259</td><td>1534384360000</td></tr><tr><td>dbfs:/mnt/cdr_ds/sms-call-internet-mi-2013-12-30.txt</td><td>sms-call-internet-mi-2013-12-30.txt</td><td>300546933</td><td>1534384360000</td></tr><tr><td>dbfs:/mnt/cdr_ds/sms-call-internet-mi-2013-12-31.txt</td><td>sms-call-internet-mi-2013-12-31.txt</td><td>324184533</td><td>1534384550000</td></tr><tr><td>dbfs:/mnt/cdr_ds/sms-call-internet-mi-2014-01-01.txt</td><td>sms-call-internet-mi-2014-01-01.txt</td><td>329510085</td><td>1534384574000</td></tr></tbody></table></div>"
      ]
     },
     "metadata": {
      "application/vnd.databricks.v1+output": {
       "addedWidgets": {},
       "aggData": [],
       "aggError": "",
       "aggOverflow": false,
       "aggSchema": [],
       "aggSeriesLimitReached": false,
       "aggType": "",
       "arguments": {},
       "columnCustomDisplayInfos": {},
       "data": [
        [
         "dbfs:/mnt/cdr_ds/sms-call-internet-mi-2013-12-01.txt",
         "sms-call-internet-mi-2013-12-01.txt",
         298715145,
         1534382855000
        ],
        [
         "dbfs:/mnt/cdr_ds/sms-call-internet-mi-2013-12-02.txt",
         "sms-call-internet-mi-2013-12-02.txt",
         341919663,
         1534382855000
        ],
        [
         "dbfs:/mnt/cdr_ds/sms-call-internet-mi-2013-12-03.txt",
         "sms-call-internet-mi-2013-12-03.txt",
         353947238,
         1534382855000
        ],
        [
         "dbfs:/mnt/cdr_ds/sms-call-internet-mi-2013-12-04.txt",
         "sms-call-internet-mi-2013-12-04.txt",
         352032545,
         1534382855000
        ],
        [
         "dbfs:/mnt/cdr_ds/sms-call-internet-mi-2013-12-05.txt",
         "sms-call-internet-mi-2013-12-05.txt",
         353519447,
         1534382855000
        ],
        [
         "dbfs:/mnt/cdr_ds/sms-call-internet-mi-2013-12-06.txt",
         "sms-call-internet-mi-2013-12-06.txt",
         354028475,
         1534383133000
        ],
        [
         "dbfs:/mnt/cdr_ds/sms-call-internet-mi-2013-12-07.txt",
         "sms-call-internet-mi-2013-12-07.txt",
         307172220,
         1534383160000
        ],
        [
         "dbfs:/mnt/cdr_ds/sms-call-internet-mi-2013-12-08.txt",
         "sms-call-internet-mi-2013-12-08.txt",
         293663723,
         1534383165000
        ],
        [
         "dbfs:/mnt/cdr_ds/sms-call-internet-mi-2013-12-09.txt",
         "sms-call-internet-mi-2013-12-09.txt",
         338963272,
         1534383165000
        ],
        [
         "dbfs:/mnt/cdr_ds/sms-call-internet-mi-2013-12-10.txt",
         "sms-call-internet-mi-2013-12-10.txt",
         349269739,
         1534383165000
        ],
        [
         "dbfs:/mnt/cdr_ds/sms-call-internet-mi-2013-12-11.txt",
         "sms-call-internet-mi-2013-12-11.txt",
         351378560,
         1534383447000
        ],
        [
         "dbfs:/mnt/cdr_ds/sms-call-internet-mi-2013-12-12.txt",
         "sms-call-internet-mi-2013-12-12.txt",
         353930588,
         1534383448000
        ],
        [
         "dbfs:/mnt/cdr_ds/sms-call-internet-mi-2013-12-13.txt",
         "sms-call-internet-mi-2013-12-13.txt",
         351454734,
         1534383451000
        ],
        [
         "dbfs:/mnt/cdr_ds/sms-call-internet-mi-2013-12-14.txt",
         "sms-call-internet-mi-2013-12-14.txt",
         310080286,
         1534383489000
        ],
        [
         "dbfs:/mnt/cdr_ds/sms-call-internet-mi-2013-12-15.txt",
         "sms-call-internet-mi-2013-12-15.txt",
         296653479,
         1534383492000
        ],
        [
         "dbfs:/mnt/cdr_ds/sms-call-internet-mi-2013-12-16.txt",
         "sms-call-internet-mi-2013-12-16.txt",
         342672644,
         1534383765000
        ],
        [
         "dbfs:/mnt/cdr_ds/sms-call-internet-mi-2013-12-17.txt",
         "sms-call-internet-mi-2013-12-17.txt",
         351108029,
         1534383768000
        ],
        [
         "dbfs:/mnt/cdr_ds/sms-call-internet-mi-2013-12-18.txt",
         "sms-call-internet-mi-2013-12-18.txt",
         350956602,
         1534383768000
        ],
        [
         "dbfs:/mnt/cdr_ds/sms-call-internet-mi-2013-12-19.txt",
         "sms-call-internet-mi-2013-12-19.txt",
         356429243,
         1534383768000
        ],
        [
         "dbfs:/mnt/cdr_ds/sms-call-internet-mi-2013-12-20.txt",
         "sms-call-internet-mi-2013-12-20.txt",
         349357045,
         1534383769000
        ],
        [
         "dbfs:/mnt/cdr_ds/sms-call-internet-mi-2013-12-21.txt",
         "sms-call-internet-mi-2013-12-21.txt",
         313594501,
         1534384058000
        ],
        [
         "dbfs:/mnt/cdr_ds/sms-call-internet-mi-2013-12-22.txt",
         "sms-call-internet-mi-2013-12-22.txt",
         301004169,
         1534384060000
        ],
        [
         "dbfs:/mnt/cdr_ds/sms-call-internet-mi-2013-12-23.txt",
         "sms-call-internet-mi-2013-12-23.txt",
         326617616,
         1534384066000
        ],
        [
         "dbfs:/mnt/cdr_ds/sms-call-internet-mi-2013-12-24.txt",
         "sms-call-internet-mi-2013-12-24.txt",
         328653739,
         1534384071000
        ],
        [
         "dbfs:/mnt/cdr_ds/sms-call-internet-mi-2013-12-25.txt",
         "sms-call-internet-mi-2013-12-25.txt",
         324587326,
         1534384078000
        ],
        [
         "dbfs:/mnt/cdr_ds/sms-call-internet-mi-2013-12-26.txt",
         "sms-call-internet-mi-2013-12-26.txt",
         281115796,
         1534384319000
        ],
        [
         "dbfs:/mnt/cdr_ds/sms-call-internet-mi-2013-12-27.txt",
         "sms-call-internet-mi-2013-12-27.txt",
         303320719,
         1534384323000
        ],
        [
         "dbfs:/mnt/cdr_ds/sms-call-internet-mi-2013-12-28.txt",
         "sms-call-internet-mi-2013-12-28.txt",
         285311365,
         1534384358000
        ],
        [
         "dbfs:/mnt/cdr_ds/sms-call-internet-mi-2013-12-29.txt",
         "sms-call-internet-mi-2013-12-29.txt",
         277460259,
         1534384360000
        ],
        [
         "dbfs:/mnt/cdr_ds/sms-call-internet-mi-2013-12-30.txt",
         "sms-call-internet-mi-2013-12-30.txt",
         300546933,
         1534384360000
        ],
        [
         "dbfs:/mnt/cdr_ds/sms-call-internet-mi-2013-12-31.txt",
         "sms-call-internet-mi-2013-12-31.txt",
         324184533,
         1534384550000
        ],
        [
         "dbfs:/mnt/cdr_ds/sms-call-internet-mi-2014-01-01.txt",
         "sms-call-internet-mi-2014-01-01.txt",
         329510085,
         1534384574000
        ]
       ],
       "datasetInfos": [],
       "dbfsResultPath": null,
       "isJsonSchema": true,
       "metadata": {},
       "overflow": false,
       "plotOptions": {
        "customPlotOptions": {},
        "displayType": "table",
        "pivotAggregation": null,
        "pivotColumns": null,
        "xColumns": null,
        "yColumns": null
       },
       "removedWidgets": [],
       "schema": [
        {
         "metadata": "{}",
         "name": "path",
         "type": "\"string\""
        },
        {
         "metadata": "{}",
         "name": "name",
         "type": "\"string\""
        },
        {
         "metadata": "{}",
         "name": "size",
         "type": "\"long\""
        },
        {
         "metadata": "{}",
         "name": "modificationTime",
         "type": "\"long\""
        }
       ],
       "type": "table"
      }
     },
     "output_type": "display_data"
    }
   ],
   "source": [
    "# Function to check if a mount point exists\n",
    "def mount_point_exists(mount_point):\n",
    "    try:\n",
    "        dbutils.fs.ls(mount_point)\n",
    "        return True\n",
    "    except:\n",
    "        return False\n",
    "\n",
    "# Unmount if necessary (Databricks only allows one mount per folder)\n",
    "if mount_point_exists(\"/mnt/cdr_ds\"):\n",
    "    dbutils.fs.unmount(\"/mnt/cdr_ds\")\n",
    "\n",
    "# Now mount the December subfolder to /mnt/cdr\n",
    "dbutils.fs.mount(\n",
    "  source = \"s3a://weclouddata/datasets/telecom/CDR/cdr_by_grid_december\",\n",
    "  mount_point = \"/mnt/cdr_ds\",\n",
    "  extra_configs = {\"fs.s3a.access.key\": ACCESS_KEY, \"fs.s3a.secret.key\": SECRET_KEY}\n",
    ")\n",
    "\n",
    "# Verify the mount by listing the files in the mounted directory\n",
    "display(dbutils.fs.ls(\"/mnt/cdr_ds\"))"
   ]
  },
  {
   "cell_type": "markdown",
   "metadata": {
    "application/vnd.databricks.v1+cell": {
     "cellMetadata": {},
     "inputWidgets": {},
     "nuid": "740b5402-fe77-4fcd-8001-23b514bfde10",
     "showTitle": false,
     "title": ""
    }
   },
   "source": [
    "# Load the data for the first five days of December\n",
    "\n",
    "Next, we will read the first five days from the folder and load them into a DataFrame."
   ]
  },
  {
   "cell_type": "code",
   "execution_count": 0,
   "metadata": {
    "application/vnd.databricks.v1+cell": {
     "cellMetadata": {
      "byteLimit": 2048000,
      "rowLimit": 10000
     },
     "inputWidgets": {},
     "nuid": "479a9ace-3514-4e1b-96a1-d4cf389f0e0b",
     "showTitle": false,
     "title": ""
    }
   },
   "outputs": [
    {
     "output_type": "stream",
     "name": "stdout",
     "output_type": "stream",
     "text": [
      "+----------------------------------------------------------------------------------------------------------------------------+\n|value                                                                                                                       |\n+----------------------------------------------------------------------------------------------------------------------------+\n|1\\t1385852400000\\t39\\t0.11098916961424417\\t0.16621436886121638\\t0.10920185950874473\\t0.16442705875571695\\t13.648437920592805|\n|1\\t1385852400000\\t46\\t\\t\\t\\t\\t0.026137424264286602                                                                          |\n|1\\t1385853000000\\t39\\t0.16513682662061693\\t0.1763994583739133\\t0.030875085088185057\\t0.02730046487718618\\t13.330858194494864|\n|1\\t1385853600000\\t0\\t0.029087774982685617\\t0.02730046487718618\\t\\t\\t                                                        |\n|1\\t1385853600000\\t39\\t0.18645109168870494\\t0.13658782275823106\\t0.05460092975437236\\t\\t11.329552259939573                   |\n+----------------------------------------------------------------------------------------------------------------------------+\nonly showing top 5 rows\n\n"
     ]
    }
   ],
   "source": [
    "# Initialize an empty list to store file paths\n",
    "cdrFiles = []\n",
    "\n",
    "# Loop through the range to create file paths for the first five days\n",
    "for i in range(1, 6):\n",
    "    file = f'/mnt/cdr_ds/sms-call-internet-mi-2013-12-{i:02}.txt'\n",
    "    cdrFiles.append(file)\n",
    "\n",
    "# Read the first five days into a DataFrame\n",
    "df = spark.read.text(cdrFiles)\n",
    "\n",
    "# Show the first few rows without truncation\n",
    "df.show(5, truncate=False)\n"
   ]
  },
  {
   "cell_type": "markdown",
   "metadata": {
    "application/vnd.databricks.v1+cell": {
     "cellMetadata": {},
     "inputWidgets": {},
     "nuid": "56ec832f-5046-49c8-8c91-92f3ceadff44",
     "showTitle": false,
     "title": ""
    }
   },
   "source": [
    "# Define schema and apply it\n",
    "\n",
    "Now we will create the schema and apply it to the loaded data. The headers should be lowercase with hyphens, and data types will be inferred accordingly."
   ]
  },
  {
   "cell_type": "code",
   "execution_count": 0,
   "metadata": {
    "application/vnd.databricks.v1+cell": {
     "cellMetadata": {
      "byteLimit": 2048000,
      "rowLimit": 10000
     },
     "inputWidgets": {},
     "nuid": "434a6cc4-59eb-4af7-a929-7be6a2e82718",
     "showTitle": false,
     "title": ""
    }
   },
   "outputs": [
    {
     "output_type": "stream",
     "name": "stdout",
     "output_type": "stream",
     "text": [
      "root\n |-- square-id: integer (nullable = true)\n |-- time-interval: long (nullable = true)\n |-- country-code: integer (nullable = true)\n |-- sms-in-activity: float (nullable = true)\n |-- sms-out-activity: float (nullable = true)\n |-- call-in-activity: float (nullable = true)\n |-- call-out-activity: float (nullable = true)\n |-- internet-traffic-activity: float (nullable = true)\n\n+---------+-------------+------------+---------------+----------------+----------------+-----------------+-------------------------+\n|square-id|time-interval|country-code|sms-in-activity|sms-out-activity|call-in-activity|call-out-activity|internet-traffic-activity|\n+---------+-------------+------------+---------------+----------------+----------------+-----------------+-------------------------+\n|1        |1385852400000|39          |0.11098917     |0.16621436      |0.109201856     |0.16442706       |13.6484375               |\n|1        |1385852400000|46          |NULL           |NULL            |NULL            |NULL             |0.026137425              |\n|1        |1385853000000|39          |0.16513683     |0.17639945      |0.030875085     |0.027300464      |13.330858                |\n|1        |1385853600000|0           |0.029087774    |0.027300464     |NULL            |NULL             |NULL                     |\n|1        |1385853600000|39          |0.18645109     |0.13658783      |0.054600928     |NULL             |11.329553                |\n+---------+-------------+------------+---------------+----------------+----------------+-----------------+-------------------------+\nonly showing top 5 rows\n\n"
     ]
    }
   ],
   "source": [
    "from pyspark.sql.types import StructType, StructField, IntegerType, LongType, FloatType\n",
    "\n",
    "# Define the schema with the correct column names and types\n",
    "schema = StructType([\n",
    "    StructField(\"square-id\", IntegerType(), True),\n",
    "    StructField(\"time-interval\", LongType(), True),\n",
    "    StructField(\"country-code\", IntegerType(), True),\n",
    "    StructField(\"sms-in-activity\", FloatType(), True),\n",
    "    StructField(\"sms-out-activity\", FloatType(), True),\n",
    "    StructField(\"call-in-activity\", FloatType(), True),\n",
    "    StructField(\"call-out-activity\", FloatType(), True),\n",
    "    StructField(\"internet-traffic-activity\", FloatType(), True)\n",
    "])\n",
    "\n",
    "# Read the data using the schema\n",
    "df_cdr = spark.read.schema(schema).option('delimiter', '\\t').csv(files, header=False)\n",
    "\n",
    "# Display the schema and first few rows\n",
    "df_cdr.printSchema()\n",
    "df_cdr.show(5, truncate=False)\n"
   ]
  },
  {
   "cell_type": "markdown",
   "metadata": {
    "application/vnd.databricks.v1+cell": {
     "cellMetadata": {},
     "inputWidgets": {},
     "nuid": "c958d80e-6b8d-411b-83bc-1300d15186f6",
     "showTitle": false,
     "title": ""
    }
   },
   "source": [
    "#  Rename Columns\n",
    "\n",
    "This cell renames the columns in the DataFrame by replacing hyphens ('-') with underscores ('_') for better consistency in column naming."
   ]
  },
  {
   "cell_type": "code",
   "execution_count": 0,
   "metadata": {
    "application/vnd.databricks.v1+cell": {
     "cellMetadata": {
      "byteLimit": 2048000,
      "rowLimit": 10000
     },
     "inputWidgets": {},
     "nuid": "8ce2add5-893b-4545-b87e-858c9f90a1a7",
     "showTitle": false,
     "title": ""
    }
   },
   "outputs": [
    {
     "output_type": "stream",
     "name": "stdout",
     "output_type": "stream",
     "text": [
      "root\n |-- square_id: integer (nullable = true)\n |-- time_interval: long (nullable = true)\n |-- country_code: integer (nullable = true)\n |-- sms_in_activity: float (nullable = true)\n |-- sms_out_activity: float (nullable = true)\n |-- call_in_activity: float (nullable = true)\n |-- call_out_activity: float (nullable = true)\n |-- internet_traffic_activity: float (nullable = true)\n\n+---------+-------------+------------+---------------+----------------+----------------+-----------------+-------------------------+\n|square_id|time_interval|country_code|sms_in_activity|sms_out_activity|call_in_activity|call_out_activity|internet_traffic_activity|\n+---------+-------------+------------+---------------+----------------+----------------+-----------------+-------------------------+\n|1        |1385852400000|39          |0.11098917     |0.16621436      |0.109201856     |0.16442706       |13.6484375               |\n|1        |1385852400000|46          |NULL           |NULL            |NULL            |NULL             |0.026137425              |\n|1        |1385853000000|39          |0.16513683     |0.17639945      |0.030875085     |0.027300464      |13.330858                |\n|1        |1385853600000|0           |0.029087774    |0.027300464     |NULL            |NULL             |NULL                     |\n|1        |1385853600000|39          |0.18645109     |0.13658783      |0.054600928     |NULL             |11.329553                |\n+---------+-------------+------------+---------------+----------------+----------------+-----------------+-------------------------+\nonly showing top 5 rows\n\n"
     ]
    }
   ],
   "source": [
    "# Function to rename columns\n",
    "def rename_columns(df):\n",
    "    for col in df.columns:\n",
    "        df = df.withColumnRenamed(col, col.replace('-', '_'))\n",
    "    return df\n",
    "\n",
    "# Apply the renaming function to the CDR DataFrame\n",
    "df_cdr_renamed = rename_columns(df_cdr)\n",
    "\n",
    "# Display the new schema and first few rows to verify the renaming\n",
    "df_cdr_renamed.printSchema()\n",
    "df_cdr_renamed.show(5, truncate=False)\n"
   ]
  },
  {
   "cell_type": "markdown",
   "metadata": {
    "application/vnd.databricks.v1+cell": {
     "cellMetadata": {},
     "inputWidgets": {},
     "nuid": "ae7c9523-740d-491e-af25-130eab011dd6",
     "showTitle": false,
     "title": ""
    }
   },
   "source": [
    "# Add SMS Ratio Column\n",
    "\n",
    "This cell adds a new column called 'sms_ratio', which calculates the ratio of 'sms_in_activity' to 'sms_out_activity'."
   ]
  },
  {
   "cell_type": "code",
   "execution_count": 0,
   "metadata": {
    "application/vnd.databricks.v1+cell": {
     "cellMetadata": {
      "byteLimit": 2048000,
      "rowLimit": 10000
     },
     "inputWidgets": {},
     "nuid": "d6a41e34-61ea-4eca-a30e-2af20558b1d0",
     "showTitle": false,
     "title": ""
    }
   },
   "outputs": [
    {
     "output_type": "stream",
     "name": "stdout",
     "output_type": "stream",
     "text": [
      "root\n |-- square_id: integer (nullable = true)\n |-- time_interval: long (nullable = true)\n |-- country_code: integer (nullable = true)\n |-- sms_in_activity: float (nullable = true)\n |-- sms_out_activity: float (nullable = true)\n |-- call_in_activity: float (nullable = true)\n |-- call_out_activity: float (nullable = true)\n |-- internet_traffic_activity: float (nullable = true)\n |-- sms_ratio: double (nullable = true)\n\n+---------+-------------+------------+---------------+----------------+----------------+-----------------+-------------------------+------------------+\n|square_id|time_interval|country_code|sms_in_activity|sms_out_activity|call_in_activity|call_out_activity|internet_traffic_activity|sms_ratio         |\n+---------+-------------+------------+---------------+----------------+----------------+-----------------+-------------------------+------------------+\n|1        |1385852400000|39          |0.11098917     |0.16621436      |0.109201856     |0.16442706       |13.6484375               |0.6677471615157958|\n|1        |1385852400000|46          |NULL           |NULL            |NULL            |NULL             |0.026137425              |NULL              |\n|1        |1385853000000|39          |0.16513683     |0.17639945      |0.030875085     |0.027300464      |13.330858                |0.9361527194661042|\n|1        |1385853600000|0           |0.029087774    |0.027300464     |NULL            |NULL             |NULL                     |1.0654681351520536|\n|1        |1385853600000|39          |0.18645109     |0.13658783      |0.054600928     |NULL             |11.329553                |1.3650637435968935|\n+---------+-------------+------------+---------------+----------------+----------------+-----------------+-------------------------+------------------+\nonly showing top 5 rows\n\n"
     ]
    }
   ],
   "source": [
    "from pyspark.sql.functions import col\n",
    "\n",
    "# Function to add 'sms_ratio' column\n",
    "def add_sms_ratio_column(df):\n",
    "    return df.withColumn('sms_ratio', col('sms_in_activity') / col('sms_out_activity'))\n",
    "\n",
    "# Apply the function to add the new column\n",
    "df_cdr_with_sms_ratio = add_sms_ratio_column(df_cdr_renamed)\n",
    "\n",
    "# Display the updated schema and first few rows to verify the new column\n",
    "df_cdr_with_sms_ratio.printSchema()\n",
    "df_cdr_with_sms_ratio.show(5, truncate=False)\n"
   ]
  },
  {
   "cell_type": "markdown",
   "metadata": {
    "application/vnd.databricks.v1+cell": {
     "cellMetadata": {},
     "inputWidgets": {},
     "nuid": "df11d697-1257-41ce-9556-739027af322a",
     "showTitle": false,
     "title": ""
    }
   },
   "source": [
    "# Create Date Column from Time Interval\n",
    "\n",
    "This cell will convert the time-interval column to a timestamp and format it to yyyy/MM/dd."
   ]
  },
  {
   "cell_type": "code",
   "execution_count": 0,
   "metadata": {
    "application/vnd.databricks.v1+cell": {
     "cellMetadata": {
      "byteLimit": 2048000,
      "rowLimit": 10000
     },
     "inputWidgets": {},
     "nuid": "4e0e8d61-4f6b-4474-87ee-c17f71c1ea51",
     "showTitle": false,
     "title": ""
    }
   },
   "outputs": [
    {
     "output_type": "stream",
     "name": "stdout",
     "output_type": "stream",
     "text": [
      "+----------+-------------+---------+---------------+\n|date      |time_interval|square_id|sms_in_activity|\n+----------+-------------+---------+---------------+\n|2013/11/30|1385852400000|1        |0.11098917     |\n|2013/11/30|1385852400000|1        |NULL           |\n|2013/11/30|1385853000000|1        |0.16513683     |\n|2013/11/30|1385853600000|1        |0.029087774    |\n|2013/11/30|1385853600000|1        |0.18645109     |\n+----------+-------------+---------+---------------+\nonly showing top 5 rows\n\n"
     ]
    }
   ],
   "source": [
    "from pyspark.sql.functions import col, from_unixtime, date_format\n",
    "\n",
    "# Function to create a date column from time-interval\n",
    "def add_date_column(dataframe):\n",
    "    return dataframe.withColumn(\n",
    "        \"date\", \n",
    "        date_format(from_unixtime(col(\"time_interval\") / 1000), \"yyyy/MM/dd\")\n",
    "    )\n",
    "\n",
    "# Apply the function to add the date column\n",
    "df_cdr_with_date = add_date_column(df_cdr_renamed)\n",
    "\n",
    "# Show the updated DataFrame with the new date column\n",
    "df_cdr_with_date.select(\"date\", \"time_interval\", \"square_id\", \"sms_in_activity\").show(5, truncate=False)\n"
   ]
  },
  {
   "cell_type": "markdown",
   "metadata": {
    "application/vnd.databricks.v1+cell": {
     "cellMetadata": {},
     "inputWidgets": {},
     "nuid": "f4450ee8-cf4e-4f57-a126-cdc27ed4f18f",
     "showTitle": false,
     "title": ""
    }
   },
   "source": [
    "# Calculate Summary Statistics at Square ID Level\n",
    "\n",
    "This cell computes summary statistics for each square-id, aggregating various activity metrics and counting the total records."
   ]
  },
  {
   "cell_type": "code",
   "execution_count": 0,
   "metadata": {
    "application/vnd.databricks.v1+cell": {
     "cellMetadata": {
      "byteLimit": 2048000,
      "rowLimit": 10000
     },
     "inputWidgets": {},
     "nuid": "f417e81b-a25a-4ce8-bd24-0e03a4a0e55d",
     "showTitle": false,
     "title": ""
    }
   },
   "outputs": [
    {
     "output_type": "stream",
     "name": "stdout",
     "output_type": "stream",
     "text": [
      "+---------+--------------------+---------------------+---------------------+-----------------------------+-------------+\n|square_id|mean_sms_in_activity|mean_sms_out_activity|min_call_out_activity|max_internet_traffic_activity|total_records|\n+---------+--------------------+---------------------+---------------------+-----------------------------+-------------+\n|1088     |0.11975984345077312 |0.08407897181748984  |0.020871513          |11.037694                    |1786         |\n|1238     |0.49549087842597683 |0.42196868496654066  |0.028927796          |38.695675                    |2263         |\n|1342     |0.3340133734136999  |0.2921593822840496   |0.07374897           |42.553158                    |1332         |\n|148      |1.5042347660848234  |1.376296321345227    |0.085676275          |128.35962                    |2179         |\n|1580     |0.415568866677146   |0.254975488859302    |0.0015186457         |34.00702                     |2206         |\n|1591     |1.5094633196606042  |1.2719159775954747   |0.0014229898         |107.98072                    |2677         |\n|1645     |0.802990007595      |0.7725049278878291   |0.077083975          |96.234695                    |1426         |\n|1829     |0.317018806108937   |0.26071855054414345  |0.019504717          |11.241916                    |2009         |\n|1959     |0.46933518733464036 |0.355630380203754    |0.017411714          |27.996887                    |2218         |\n|2122     |0.1803869957998673  |0.20779198470217028  |8.602591E-4          |19.638311                    |3995         |\n|2142     |0.9964863778469438  |1.1305673177935118   |0.17524692           |93.7571                      |1446         |\n|2366     |5.485128320172708   |4.918512244843593    |9.340059E-4          |833.8594                     |1954         |\n|2659     |0.8052393426134031  |0.8712370189886789   |0.0010439361         |28.855986                    |1737         |\n|2866     |1.2236293563464522  |1.1300789278961938   |2.705675E-4          |129.39296                    |2475         |\n|3175     |0.5714521741415751  |0.4434915417168799   |0.0014894268         |56.808666                    |2350         |\n|3749     |6.099838090723616   |5.113315909909406    |0.03453432           |332.09448                    |2438         |\n|3794     |1.3547457810587678  |1.072511580643186    |3.8550302E-4         |363.32208                    |2526         |\n|3918     |0.7797696630814553  |0.6373811260526259   |3.754084E-4          |42.167282                    |2781         |\n|3997     |0.7446192732096073  |0.6453406882396754   |0.047565307          |47.019352                    |2375         |\n|4101     |0.08698271812311761 |0.07256735588585023  |0.009796412          |6.41431                      |1646         |\n+---------+--------------------+---------------------+---------------------+-----------------------------+-------------+\nonly showing top 20 rows\n\n"
     ]
    }
   ],
   "source": [
    "from pyspark.sql import functions as F\n",
    "\n",
    "# Function to calculate summary statistics at the square-id level\n",
    "def calculate_summary_statistics(dataframe):\n",
    "    return (\n",
    "        dataframe.groupBy(\"square_id\")\n",
    "        .agg(\n",
    "            F.mean(\"sms_in_activity\").alias(\"mean_sms_in_activity\"),\n",
    "            F.mean(\"sms_out_activity\").alias(\"mean_sms_out_activity\"),\n",
    "            F.min(\"call_out_activity\").alias(\"min_call_out_activity\"),\n",
    "            F.max(\"internet_traffic_activity\").alias(\"max_internet_traffic_activity\"),\n",
    "            F.count(\"*\").alias(\"total_records\")\n",
    "        )\n",
    "    )\n",
    "\n",
    "# Apply the function to calculate summary statistics\n",
    "df_summary_stats = calculate_summary_statistics(df_cdr_with_date)\n",
    "\n",
    "# Show the summary statistics DataFrame\n",
    "df_summary_stats.show(truncate=False)\n"
   ]
  },
  {
   "cell_type": "markdown",
   "metadata": {
    "application/vnd.databricks.v1+cell": {
     "cellMetadata": {},
     "inputWidgets": {},
     "nuid": "2458acfb-a6e5-440c-8ef8-c9ace6ade82b",
     "showTitle": false,
     "title": ""
    }
   },
   "source": [
    "# Find Min and Max Values Grouped by Square ID\n",
    "\n",
    "This cell groups the DataFrame by square-id and calculates the minimum and maximum values for specified activity columns."
   ]
  },
  {
   "cell_type": "code",
   "execution_count": 0,
   "metadata": {
    "application/vnd.databricks.v1+cell": {
     "cellMetadata": {
      "byteLimit": 2048000,
      "rowLimit": 10000
     },
     "inputWidgets": {},
     "nuid": "81b790be-72eb-48da-9072-4d2d171bcafc",
     "showTitle": false,
     "title": ""
    }
   },
   "outputs": [
    {
     "output_type": "stream",
     "name": "stdout",
     "output_type": "stream",
     "text": [
      "+---------+-------------------+-------------------+--------------------+--------------------+-----------------------------+-----------------------------+--------------------+--------------------+---------------------+---------------------+\n|square_id|min_sms_in_activity|max_sms_in_activity|min_sms_out_activity|max_sms_out_activity|min_internet_traffic_activity|max_internet_traffic_activity|min_call_in_activity|max_call_in_activity|min_call_out_activity|max_call_out_activity|\n+---------+-------------------+-------------------+--------------------+--------------------+-----------------------------+-----------------------------+--------------------+--------------------+---------------------+---------------------+\n|1088     |0.020871513        |0.54749453         |0.020871513         |2.6005592           |0.020871513                  |11.037694                    |0.020871513         |0.8147374           |0.020871513          |1.1373159            |\n|1238     |0.028927796        |2.236176           |0.028927796         |2.647902            |0.028927796                  |38.695675                    |0.028927796         |2.0182087           |0.028927796          |2.261069             |\n|1342     |0.07374897         |2.5074651          |0.07374897          |2.654963            |0.07374897                   |42.553158                    |0.07374897          |1.5487283           |0.07374897           |1.9174732            |\n|148      |0.085676275        |9.075446           |0.085676275         |5.9389133           |0.085676275                  |128.35962                    |0.085676275         |6.8407445           |0.085676275          |7.1247945            |\n|1580     |0.0015186457       |5.4615974          |0.0015186457        |2.0246944           |0.0015186457                 |34.00702                     |0.0015186457        |3.3710263           |0.0015186457         |2.894858             |\n|1591     |0.0014229898       |11.3683195         |0.0014229898        |10.974085           |0.0014229898                 |107.98072                    |0.0014229898        |8.001121            |0.0014229898         |7.22543              |\n|1645     |0.077083975        |4.4403343          |0.077083975         |9.064508            |0.077083975                  |96.234695                    |0.077083975         |4.589557            |0.077083975          |3.9432137            |\n|1829     |0.019504717        |1.4257319          |0.019504717         |2.7453156           |0.019504717                  |11.241916                    |0.019504717         |1.667561            |0.019504717          |1.6583172            |\n|1959     |0.017411714        |1.9862694          |0.017411714         |1.4465959           |0.017411714                  |27.996887                    |0.017411714         |2.222224            |0.017411714          |2.3343573            |\n|2122     |8.602591E-4        |1.5300422          |8.602591E-4         |0.9089566           |8.602591E-4                  |19.638311                    |8.602591E-4         |1.4084702           |8.602591E-4          |1.463107             |\n|2142     |0.17524692         |4.9069138          |0.17524692          |25.58605            |0.17524692                   |93.7571                      |0.17524692          |5.082161            |0.17524692           |4.381173             |\n|2366     |9.340059E-4        |70.35584           |9.340059E-4         |42.34354            |9.340059E-4                  |833.8594                     |9.340059E-4         |36.322838           |9.340059E-4          |30.626299            |\n|2659     |0.0010439361       |5.079063           |0.0010439361        |4.1899114           |0.0010439361                 |28.855986                    |0.0010439361        |4.1597934           |0.0010439361         |4.1183167            |\n|2866     |2.705675E-4        |7.3703485          |2.705675E-4         |9.493223            |2.705675E-4                  |129.39296                    |2.705675E-4         |6.2534604           |2.705675E-4          |6.4177485            |\n|3175     |0.0014894268       |4.3984227          |0.0014894268        |2.209368            |0.0014894268                 |56.808666                    |0.0014894268        |2.5197177           |0.0014894268         |3.3787248            |\n|3749     |0.03453432         |26.135777          |0.03453432          |18.181541           |0.03453432                   |332.09448                    |0.03453432          |25.290281           |0.03453432           |28.21871             |\n|3794     |3.8550302E-4       |20.791357          |3.8550302E-4        |16.68728            |3.8550302E-4                 |363.32208                    |3.8550302E-4        |21.061354           |3.8550302E-4         |24.148876            |\n|3918     |3.754084E-4        |5.3628716          |3.754084E-4         |2.6230476           |3.754084E-4                  |42.167282                    |3.754084E-4         |4.6012893           |3.754084E-4          |4.387849             |\n|3997     |0.047565307        |6.224762           |0.047565307         |2.9473329           |0.047565307                  |47.019352                    |0.047565307         |4.057561            |0.047565307          |3.9671526            |\n|4101     |0.009796412        |0.5876895          |0.009796412         |0.56193954          |0.009796412                  |6.41431                      |0.009796412         |0.40181142          |0.009796412          |0.57561195           |\n+---------+-------------------+-------------------+--------------------+--------------------+-----------------------------+-----------------------------+--------------------+--------------------+---------------------+---------------------+\nonly showing top 20 rows\n\n"
     ]
    }
   ],
   "source": [
    "# Function to find min and max values grouped by square-id\n",
    "def find_min_max_by_square_id(dataframe):\n",
    "    return (\n",
    "        dataframe.groupBy(\"square_id\")\n",
    "        .agg(\n",
    "            F.min(\"sms_in_activity\").alias(\"min_sms_in_activity\"),\n",
    "            F.max(\"sms_in_activity\").alias(\"max_sms_in_activity\"),\n",
    "            F.min(\"sms_out_activity\").alias(\"min_sms_out_activity\"),\n",
    "            F.max(\"sms_out_activity\").alias(\"max_sms_out_activity\"),\n",
    "            F.min(\"internet_traffic_activity\").alias(\"min_internet_traffic_activity\"),\n",
    "            F.max(\"internet_traffic_activity\").alias(\"max_internet_traffic_activity\"),\n",
    "            F.min(\"call_in_activity\").alias(\"min_call_in_activity\"),\n",
    "            F.max(\"call_in_activity\").alias(\"max_call_in_activity\"),\n",
    "            F.min(\"call_out_activity\").alias(\"min_call_out_activity\"),\n",
    "            F.max(\"call_out_activity\").alias(\"max_call_out_activity\")\n",
    "        )\n",
    "    )\n",
    "\n",
    "# Apply the function to find min and max values\n",
    "df_min_max_stats = find_min_max_by_square_id(df_cdr_with_date)\n",
    "\n",
    "# Show the min and max values DataFrame\n",
    "df_min_max_stats.show(truncate=False)\n"
   ]
  },
  {
   "cell_type": "markdown",
   "metadata": {
    "application/vnd.databricks.v1+cell": {
     "cellMetadata": {},
     "inputWidgets": {},
     "nuid": "42b3f85d-b9d6-46b9-a6c1-a8b56becfbbd",
     "showTitle": false,
     "title": ""
    }
   },
   "source": [
    "# Create a summary table"
   ]
  },
  {
   "cell_type": "markdown",
   "metadata": {
    "application/vnd.databricks.v1+cell": {
     "cellMetadata": {},
     "inputWidgets": {},
     "nuid": "672112f3-cbef-4efb-9a8e-35bed4722359",
     "showTitle": false,
     "title": ""
    }
   },
   "source": [
    "##  Generate Aggregate Table of Activities by Country and Day\n",
    "\n",
    "This cell creates an aggregate table summarizing the daily SMS, call, and internet activities per country, excluding null values from the counts."
   ]
  },
  {
   "cell_type": "code",
   "execution_count": 0,
   "metadata": {
    "application/vnd.databricks.v1+cell": {
     "cellMetadata": {
      "byteLimit": 2048000,
      "rowLimit": 10000
     },
     "inputWidgets": {},
     "nuid": "4ff101b1-0253-417e-8675-322e60b671f7",
     "showTitle": false,
     "title": ""
    }
   },
   "outputs": [
    {
     "output_type": "stream",
     "name": "stdout",
     "output_type": "stream",
     "text": [
      "+------------+----------+---------------------+----------------------+----------------------+-----------------------+-------------------------------+\n|country_code|date      |total_sms_in_activity|total_sms_out_activity|total_call_in_activity|total_call_out_activity|total_internet_traffic_activity|\n+------------+----------+---------------------+----------------------+----------------------+-----------------------+-------------------------------+\n|46          |2013/12/01|2903                 |2485                  |1057                  |1447                   |151943                         |\n|976         |2013/12/01|70                   |40                    |6                     |0                      |0                              |\n|503         |2013/12/01|995                  |316                   |329                   |1257                   |0                              |\n|355         |2013/11/30|158                  |0                     |0                     |56                     |226                            |\n|359         |2013/12/01|2002                 |1405                  |3125                  |1944                   |496                            |\n|1784        |2013/12/01|0                    |0                     |4                     |0                      |0                              |\n|18098       |2013/12/01|128                  |146                   |25                    |114                    |0                              |\n|269         |2013/12/01|0                    |0                     |16                    |0                      |0                              |\n|31          |2013/12/01|2968                 |1269                  |1946                  |1408                   |13910                          |\n|88239       |2013/11/30|0                    |0                     |0                     |0                      |310                            |\n|381         |2013/11/30|288                  |12                    |0                     |7                      |7                              |\n|977         |2013/12/01|28                   |79                    |20                    |0                      |0                              |\n|0           |2013/11/30|16150                |2068                  |390                   |1556                   |0                              |\n|66          |2013/12/01|491                  |259                   |742                   |217                    |935                            |\n|353         |2013/11/30|50                   |23                    |46                    |0                      |311                            |\n|7726        |2013/12/01|0                    |0                     |7                     |0                      |0                              |\n|502         |2013/12/01|124                  |355                   |91                    |7                      |0                              |\n|853         |2013/12/01|73                   |12                    |0                     |0                      |0                              |\n|420         |2013/12/01|4629                 |2838                  |1292                  |1178                   |5452                           |\n|357         |2013/12/01|655                  |239                   |351                   |113                    |57                             |\n+------------+----------+---------------------+----------------------+----------------------+-----------------------+-------------------------------+\nonly showing top 20 rows\n\n"
     ]
    }
   ],
   "source": [
    "# Function to generate an aggregate table summarizing activities by country and day\n",
    "def aggregate_activities_by_country_and_day(dataframe):\n",
    "    return (\n",
    "        dataframe.groupBy(\"country_code\", \"date\")\n",
    "        .agg(\n",
    "            F.count(F.when(F.col(\"sms_in_activity\").isNotNull(), True)).alias(\"total_sms_in_activity\"),\n",
    "            F.count(F.when(F.col(\"sms_out_activity\").isNotNull(), True)).alias(\"total_sms_out_activity\"),\n",
    "            F.count(F.when(F.col(\"call_in_activity\").isNotNull(), True)).alias(\"total_call_in_activity\"),\n",
    "            F.count(F.when(F.col(\"call_out_activity\").isNotNull(), True)).alias(\"total_call_out_activity\"),\n",
    "            F.count(F.when(F.col(\"internet_traffic_activity\").isNotNull(), True)).alias(\"total_internet_traffic_activity\")\n",
    "        )\n",
    "    )\n",
    "\n",
    "# Apply the function to create the aggregate table\n",
    "df_activity_summary = aggregate_activities_by_country_and_day(df_cdr_with_date)\n",
    "\n",
    "# Show the aggregate table of activities by country and day\n",
    "df_activity_summary.show(truncate=False)\n"
   ]
  },
  {
   "cell_type": "markdown",
   "metadata": {
    "application/vnd.databricks.v1+cell": {
     "cellMetadata": {},
     "inputWidgets": {},
     "nuid": "cbaa39c9-3478-4ed6-8c1c-f3792674d7bc",
     "showTitle": false,
     "title": ""
    }
   },
   "source": [
    "## Write Summary Statistics DataFrame to Parquet Format\n",
    "\n",
    "This cell writes the summary statistics DataFrame to the 'tmp' folder in Parquet format for efficient storage and access."
   ]
  },
  {
   "cell_type": "code",
   "execution_count": 0,
   "metadata": {
    "application/vnd.databricks.v1+cell": {
     "cellMetadata": {
      "byteLimit": 2048000,
      "rowLimit": 10000
     },
     "inputWidgets": {},
     "nuid": "f5a1ac4b-0304-416f-9f16-986c87965324",
     "showTitle": false,
     "title": ""
    }
   },
   "outputs": [
    {
     "output_type": "stream",
     "name": "stdout",
     "output_type": "stream",
     "text": [
      "Summary statistics DataFrame has been written to /mnt/tmp/summary_statistics.parquet.\n"
     ]
    }
   ],
   "source": [
    "# Function to write DataFrame to Parquet format\n",
    "def write_to_parquet(dataframe, path):\n",
    "    dataframe.write.mode(\"overwrite\").parquet(path)\n",
    "\n",
    "# Specify the path to the 'tmp' folder\n",
    "parquet_path = \"/mnt/tmp/summary_statistics.parquet\"\n",
    "\n",
    "# Call the function to write the summary statistics DataFrame to Parquet format\n",
    "write_to_parquet(df_summary_stats, parquet_path)\n",
    "\n",
    "# Output a confirmation message\n",
    "print(f\"Summary statistics DataFrame has been written to {parquet_path}.\")\n"
   ]
  },
  {
   "cell_type": "markdown",
   "metadata": {
    "application/vnd.databricks.v1+cell": {
     "cellMetadata": {},
     "inputWidgets": {},
     "nuid": "fa3dcb0a-db76-4a85-a2a0-dcd90f14cae6",
     "showTitle": false,
     "title": ""
    }
   },
   "source": [
    "# Retrieve AWS Credentials from Secrets Manager"
   ]
  },
  {
   "cell_type": "code",
   "execution_count": 0,
   "metadata": {
    "application/vnd.databricks.v1+cell": {
     "cellMetadata": {
      "byteLimit": 2048000,
      "rowLimit": 10000
     },
     "inputWidgets": {},
     "nuid": "a7052bfe-96f2-4b07-b0cb-b2d9242c33a5",
     "showTitle": false,
     "title": ""
    }
   },
   "outputs": [],
   "source": [
    "# Accessing the AWS credentials stored in Databricks Secrets\n",
    "access_key = dbutils.secrets.get(scope=\"my_secret_scope\", key=\"AWS_ACCESS_KEY_ID\")\n",
    "secret_key = dbutils.secrets.get(scope=\"my_secret_scope\", key=\"AWS_SECRET_ACCESS_KEY\")\n"
   ]
  },
  {
   "cell_type": "markdown",
   "metadata": {
    "application/vnd.databricks.v1+cell": {
     "cellMetadata": {},
     "inputWidgets": {},
     "nuid": "1ea3c5c7-bed7-4d6f-8a2e-46ed50341cab",
     "showTitle": false,
     "title": ""
    }
   },
   "source": [
    "## Define Function to Set Up S3 Configuration"
   ]
  },
  {
   "cell_type": "code",
   "execution_count": 0,
   "metadata": {
    "application/vnd.databricks.v1+cell": {
     "cellMetadata": {
      "byteLimit": 2048000,
      "rowLimit": 10000
     },
     "inputWidgets": {},
     "nuid": "c388b747-3d3f-4b90-8585-0581d807dc1b",
     "showTitle": false,
     "title": ""
    }
   },
   "outputs": [],
   "source": [
    "# Define Function to Set Up S3 Configuration\n",
    "def configure_s3_access():\n",
    "    access_key = dbutils.secrets.get(scope=\"my_secret_scope\", key=\"AWS_ACCESS_KEY_ID\")\n",
    "    secret_key = dbutils.secrets.get(scope=\"my_secret_scope\", key=\"AWS_SECRET_ACCESS_KEY\")\n",
    "    \n",
    "    spark.conf.set(\"fs.s3a.access.key\", access_key)\n",
    "    spark.conf.set(\"fs.s3a.secret.key\", secret_key)\n",
    "    spark.conf.set(\"fs.s3a.endpoint\", \"s3.amazonaws.com\")"
   ]
  },
  {
   "cell_type": "markdown",
   "metadata": {
    "application/vnd.databricks.v1+cell": {
     "cellMetadata": {},
     "inputWidgets": {},
     "nuid": "1678e6ae-c25d-42dd-a8d2-4a6ea8ab02d7",
     "showTitle": false,
     "title": ""
    }
   },
   "source": [
    "## Define Function to Save DataFrame to S3"
   ]
  },
  {
   "cell_type": "code",
   "execution_count": 0,
   "metadata": {
    "application/vnd.databricks.v1+cell": {
     "cellMetadata": {
      "byteLimit": 2048000,
      "rowLimit": 10000
     },
     "inputWidgets": {},
     "nuid": "d8606b50-f792-4bf2-bd30-112d358e02ce",
     "showTitle": false,
     "title": ""
    }
   },
   "outputs": [],
   "source": [
    "# Define Function to Save DataFrame to S3\n",
    "def save_to_s3(dataframe, bucket_name, s3_path):\n",
    "    s3_uri = f\"s3a://{bucket_name}/{s3_path}\"\n",
    "    dataframe.write.mode(\"overwrite\").parquet(s3_uri)\n",
    "    print(f\"File saved to {s3_uri}\")"
   ]
  },
  {
   "cell_type": "markdown",
   "metadata": {
    "application/vnd.databricks.v1+cell": {
     "cellMetadata": {},
     "inputWidgets": {},
     "nuid": "5a8975d9-11bd-4676-abd2-15812daf1f45",
     "showTitle": false,
     "title": ""
    }
   },
   "source": [
    "## Main Execution"
   ]
  },
  {
   "cell_type": "code",
   "execution_count": 0,
   "metadata": {
    "application/vnd.databricks.v1+cell": {
     "cellMetadata": {
      "byteLimit": 2048000,
      "rowLimit": 10000
     },
     "inputWidgets": {},
     "nuid": "a6f795b7-6757-464a-8b9b-c2f45c3865a9",
     "showTitle": false,
     "title": ""
    }
   },
   "outputs": [
    {
     "output_type": "stream",
     "name": "stdout",
     "output_type": "stream",
     "text": [
      "File saved to s3a://crd-wcd-sunil/mnt/cdr/summary_statistics.parquet\n"
     ]
    }
   ],
   "source": [
    "# Main Execution\n",
    "bucket_name = \"crd-wcd-sunil\" \n",
    "s3_path = \"mnt/cdr/summary_statistics.parquet\"  \n",
    "\n",
    "# Configure S3 access\n",
    "configure_s3_access()\n",
    "\n",
    "# Load the Parquet file from the Databricks file system\n",
    "df = spark.read.parquet(\"/mnt/tmp/summary_statistics.parquet\")\n",
    "\n",
    "# Save the DataFrame to S3\n",
    "save_to_s3(df, bucket_name, s3_path)\n"
   ]
  },
  {
   "cell_type": "markdown",
   "metadata": {
    "application/vnd.databricks.v1+cell": {
     "cellMetadata": {},
     "inputWidgets": {},
     "nuid": "b999edef-45eb-491e-9df1-646c41ceaef1",
     "showTitle": false,
     "title": ""
    }
   },
   "source": [
    "## Create a dataframe rank internet activity with Window function\n",
    "\n",
    "Based on the dataframe from the df_activity_summary, use window function, partition by coutry_code, rank the total internet activities of each day.\n"
   ]
  },
  {
   "cell_type": "code",
   "execution_count": 0,
   "metadata": {
    "application/vnd.databricks.v1+cell": {
     "cellMetadata": {
      "byteLimit": 2048000,
      "rowLimit": 10000
     },
     "inputWidgets": {},
     "nuid": "2b3903ce-8fdf-416e-9261-8bdfc063b024",
     "showTitle": false,
     "title": ""
    }
   },
   "outputs": [
    {
     "output_type": "stream",
     "name": "stdout",
     "output_type": "stream",
     "text": [
      "+------------+----------+----+\n|country_code|      date|rank|\n+------------+----------+----+\n|           0|2013/11/30|   1|\n|           0|2013/12/01|   2|\n|           0|2013/12/04|   3|\n|           0|2013/12/03|   4|\n|           0|2013/12/02|   5|\n|           0|2013/12/05|   6|\n|           1|2013/11/30|   1|\n|           1|2013/12/01|   2|\n|           1|2013/12/05|   3|\n|           1|2013/12/02|   4|\n+------------+----------+----+\nonly showing top 10 rows\n\n"
     ]
    }
   ],
   "source": [
    "from pyspark.sql.window import Window \n",
    "from pyspark.sql.functions import rank \n",
    "\n",
    "wSpec3 = Window.partitionBy(\"country_code\").orderBy(\"total_internet_traffic_activity\")\n",
    "\n",
    "df_activity_summary.withColumn(\"rank\", rank().over(wSpec3)).select('country_code','date','rank').show(10)"
   ]
  },
  {
   "cell_type": "markdown",
   "metadata": {
    "application/vnd.databricks.v1+cell": {
     "cellMetadata": {},
     "inputWidgets": {},
     "nuid": "5c23c269-2c93-4815-b8c0-155843caeb66",
     "showTitle": false,
     "title": ""
    }
   },
   "source": []
  }
 ],
 "metadata": {
  "application/vnd.databricks.v1+notebook": {
   "dashboards": [],
   "environmentMetadata": {
    "base_environment": "",
    "client": "1"
   },
   "language": "python",
   "notebookMetadata": {
    "mostRecentlyExecutedCommandWithImplicitDF": {
     "commandId": 3935491646580420,
     "dataframes": [
      "_sqldf"
     ]
    },
    "pythonIndentUnit": 4
   },
   "notebookName": "wcd_cdr_project",
   "widgets": {}
  }
 },
 "nbformat": 4,
 "nbformat_minor": 0
}
